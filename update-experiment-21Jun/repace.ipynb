{
 "cells": [
  {
   "cell_type": "code",
   "execution_count": 1,
   "metadata": {},
   "outputs": [
    {
     "data": {
      "text/plain": [
       "['repace.ipynb', 'CIFAR10', 'MNIST']"
      ]
     },
     "execution_count": 1,
     "metadata": {},
     "output_type": "execute_result"
    }
   ],
   "source": [
    "import os\n",
    "os.listdir()"
   ]
  },
  {
   "cell_type": "code",
   "execution_count": 2,
   "metadata": {},
   "outputs": [],
   "source": [
    "import os\n",
    "\n",
    "def replace_string_in_files(directory):\n",
    "    for root, _, files in os.walk(directory):\n",
    "        for filename in files:\n",
    "            file_path = os.path.join(root, filename)\n",
    "            if os.path.isfile(file_path):\n",
    "                with open(file_path, 'r') as file:\n",
    "                    content = file.read()\n",
    "                \n",
    "                if '--local_train_period 3' in content:\n",
    "                    content = content.replace('--local_train_period 3', '--local_train_period 2')\n",
    "                \n",
    "                with open(file_path, 'w') as file:\n",
    "                    file.write(content)\n",
    "replace_string_in_files(os.getcwd())\n"
   ]
  },
  {
   "cell_type": "code",
   "execution_count": null,
   "metadata": {},
   "outputs": [],
   "source": [
    "#--adversarial_local_training_period 2\n",
    "import os\n",
    "\n",
    "def replace_string_in_files(directory):\n",
    "    for root, _, files in os.walk(directory):\n",
    "        for filename in files:\n",
    "            file_path = os.path.join(root, filename)\n",
    "            if os.path.isfile(file_path):\n",
    "                with open(file_path, 'r') as file:\n",
    "                    content = file.read()\n",
    "                \n",
    "                if '--adversarial_local_training_period 2' in content:\n",
    "                    content = content.replace('--adversarial_local_training_period 2', '--adversarial_local_training_period 2')\n",
    "                \n",
    "                with open(file_path, 'w') as file:\n",
    "                    file.write(content)\n",
    "replace_string_in_files(os.getcwd())\n"
   ]
  },
  {
   "cell_type": "code",
   "execution_count": 5,
   "metadata": {},
   "outputs": [],
   "source": [
    "\n",
    "import os\n",
    "\n",
    "def replace_string_in_files(directory):\n",
    "    for root, _, files in os.walk(directory):\n",
    "        for filename in files:\n",
    "            file_path = os.path.join(root, filename)\n",
    "            if 'repace.ipynb' in file_path:\n",
    "                continue\n",
    "            if os.path.isfile(file_path):\n",
    "                with open(file_path, 'r') as file:\n",
    "                    content = file.read()\n",
    "                \n",
    "                if 'optimalClientsGroup' in content:\n",
    "                    content = content.replace('optimalClientsGroup', 'newOptimalClientsGroup')\n",
    "                \n",
    "                with open(file_path, 'w') as file:\n",
    "                    file.write(content)\n",
    "replace_string_in_files(os.getcwd())\n"
   ]
  },
  {
   "cell_type": "code",
   "execution_count": null,
   "metadata": {},
   "outputs": [],
   "source": [
    "\n",
    "import os\n",
    "\n",
    "def replace_string_in_files(directory):\n",
    "    for root, _, files in os.walk(directory):\n",
    "        for filename in files:\n",
    "            file_path = os.path.join(root, filename)\n",
    "            if os.path.isfile(file_path):\n",
    "                with open(file_path, 'r') as file:\n",
    "                    content = file.read()\n",
    "\n",
    "                if '20verifiers' in file_path:\n",
    "                    if 'CIFAR10' in file_path:\n",
    "                        content = content.replace('--instance cifar_15Verifiers_4Clients', '--instance cifar10_20Verifiers_7Clients')\n",
    "                    if 'MNIST' in file_path:\n",
    "                        content = content.replace('--instance cifar_15Verifiers_4Clients', '--instance emnist_20Verifiers_7Clients')\n",
    "                \n",
    "                # if 'newOptimalClientsGroup' in content:\n",
    "                #     content = content.replace('newOptimalClientsGroup', 'newOptimalClientsGroup')\n",
    "                \n",
    "                with open(file_path, 'w') as file:\n",
    "                    file.write(content)\n",
    "replace_string_in_files(os.getcwd())\n"
   ]
  },
  {
   "cell_type": "code",
   "execution_count": null,
   "metadata": {},
   "outputs": [],
   "source": [
    "\n",
    "import os\n",
    "\n",
    "def replace_string_in_files(directory):\n",
    "    for root, _, files in os.walk(directory):\n",
    "        for filename in files:\n",
    "            file_path = os.path.join(root, filename)\n",
    "            if 'repace.ipynb' in file_path:\n",
    "                continue\n",
    "            if 'fixPoisonDataRate' in file_path:\n",
    "                continue\n",
    "            if os.path.isfile(file_path):\n",
    "                with open(file_path, 'r') as file:\n",
    "                    content = file.read()\n",
    "                \n",
    "                if '--fl_round 500' in content:\n",
    "                    content = content.replace('--fl_round 500', '--fl_round 1000')\n",
    "                \n",
    "                with open(file_path, 'w') as file:\n",
    "                    file.write(content)\n",
    "replace_string_in_files(os.getcwd())\n"
   ]
  }
 ],
 "metadata": {
  "kernelspec": {
   "display_name": "longnd",
   "language": "python",
   "name": "python3"
  },
  "language_info": {
   "codemirror_mode": {
    "name": "ipython",
    "version": 3
   },
   "file_extension": ".py",
   "mimetype": "text/x-python",
   "name": "python",
   "nbconvert_exporter": "python",
   "pygments_lexer": "ipython3",
   "version": "3.7.11"
  },
  "orig_nbformat": 4
 },
 "nbformat": 4,
 "nbformat_minor": 2
}
